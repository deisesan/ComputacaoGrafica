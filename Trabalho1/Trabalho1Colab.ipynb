{
  "nbformat": 4,
  "nbformat_minor": 0,
  "metadata": {
    "colab": {
      "provenance": []
    },
    "kernelspec": {
      "name": "python3",
      "display_name": "Python 3"
    },
    "language_info": {
      "name": "python"
    }
  },
  "cells": [
    {
      "cell_type": "markdown",
      "source": [
        "Trabalho Prático 1 - Disciplina de Computação Gráfica – 2024\n",
        "\n",
        "Dupla:\n",
        "*   Deise Santana dos Santos\n",
        "*   Friedrich Naum Espíndola"
      ],
      "metadata": {
        "id": "0kcF_aKUbwN0"
      }
    },
    {
      "cell_type": "code",
      "execution_count": null,
      "metadata": {
        "id": "KVlf5Q9lbsFm"
      },
      "outputs": [],
      "source": [
        "''' Bibliotecas '''\n",
        "from lxml import etree\n",
        "import matplotlib.pyplot as plt"
      ]
    },
    {
      "cell_type": "code",
      "source": [
        "# Leitura do arquivo XML\n",
        "tree = etree.parse(\"entrada.xml\")"
      ],
      "metadata": {
        "id": "ToQBT3-8uTW2"
      },
      "execution_count": null,
      "outputs": []
    },
    {
      "cell_type": "code",
      "source": [
        "# Classes\n",
        "class Window:\n",
        "    def __init__(self, xwmin, ywmin, xwmax, ywmax):\n",
        "        self.xwmin = xwmin\n",
        "        self.ywmin = ywmin\n",
        "        self.xwmax = xwmax\n",
        "        self.ywmax = ywmax\n",
        "\n",
        "class Dot:\n",
        "    def __init__(self, x, y):\n",
        "        self.x = x\n",
        "        self.y = y\n",
        "\n",
        "class Line:\n",
        "    def __init__(self, dot1, dot2):\n",
        "        self.dot1 = dot1\n",
        "        self.dot2 = dot2\n",
        "\n",
        "class Polygon:\n",
        "    def __init__(self, dots):\n",
        "        self.dots = dots"
      ],
      "metadata": {
        "id": "VSmJ3BgXdKiZ"
      },
      "execution_count": null,
      "outputs": []
    },
    {
      "cell_type": "code",
      "source": [
        "# Busca dos Elementos -> Window\n",
        "window_xml = tree.find(\"./window\")\n",
        "\n",
        "xwmin = window_xml.find(\"wmin\").get(\"x\")\n",
        "ywmin = window_xml.find(\"wmin\").get(\"y\")\n",
        "xwmax = window_xml.find(\"wmax\").get(\"x\")\n",
        "ywmax = window_xml.find(\"wmax\").get(\"y\")\n",
        "\n",
        "window = Window(float(xwmin), float(ywmin), float(xwmax), float(ywmax))"
      ],
      "metadata": {
        "id": "O1TXESQ5i4uT"
      },
      "execution_count": null,
      "outputs": []
    },
    {
      "cell_type": "code",
      "source": [
        "# Busca dos Elementos -> Dots\n",
        "dots_xml = tree.findall(\"./ponto\")\n",
        "\n",
        "dots = []\n",
        "\n",
        "for dot_xml in dots_xml:\n",
        "  x = dot_xml.attrib['x']\n",
        "  y = dot_xml.attrib['y']\n",
        "  dot = Dot(x, y)\n",
        "  dots.append(dot)"
      ],
      "metadata": {
        "id": "qBKqgD6ZjAZS"
      },
      "execution_count": null,
      "outputs": []
    },
    {
      "cell_type": "code",
      "source": [
        "# Busca dos Elementos -> Lines\n",
        "lines_xml = tree.findall(\"./reta\")\n",
        "\n",
        "lines = []\n",
        "\n",
        "for line_xml in lines_xml:\n",
        "  x1 = line_xml[0].attrib['x']\n",
        "  y1 = line_xml[0].attrib['y']\n",
        "\n",
        "  dot1 = Dot(x1, y1)\n",
        "\n",
        "  x2 = line_xml[1].attrib['x']\n",
        "  y2 = line_xml[1].attrib['y']\n",
        "\n",
        "  dot2 = Dot(x2, y2)\n",
        "\n",
        "  line = Line(dot1, dot2)\n",
        "\n",
        "  lines.append(line)"
      ],
      "metadata": {
        "id": "3S2ZXMv3krgt"
      },
      "execution_count": null,
      "outputs": []
    },
    {
      "cell_type": "code",
      "source": [
        "# Busca dos Elementos -> Polygons\n",
        "polygons_xml = tree.findall(\"./poligono\")\n",
        "\n",
        "polygons = []\n",
        "\n",
        "for polygon_xml in polygons_xml:\n",
        "  dots = []\n",
        "\n",
        "  for dot_xml in polygon_xml.findall(\"./ponto\"):\n",
        "      x = dot_xml.attrib['x']\n",
        "      y = dot_xml.attrib['y']\n",
        "      dot = Dot(x, y)\n",
        "      dots.append(dot)\n",
        "\n",
        "  polygons.append(dots)"
      ],
      "metadata": {
        "id": "yQ8Ng0KboKOR"
      },
      "execution_count": null,
      "outputs": []
    },
    {
      "cell_type": "code",
      "source": [
        "# Plotagem\n",
        "xwmax = float(window.xwmax)\n",
        "ywmax = float(window.ywmax)\n",
        "\n",
        "plt.figure(figsize=(xwmax, ywmax))"
      ],
      "metadata": {
        "id": "X87VJUEoFauZ",
        "colab": {
          "base_uri": "https://localhost:8080/",
          "height": 52
        },
        "outputId": "adaf4c92-5518-4c46-8db8-b275ce9b09e1"
      },
      "execution_count": null,
      "outputs": [
        {
          "output_type": "execute_result",
          "data": {
            "text/plain": [
              "<Figure size 1000x1000 with 0 Axes>"
            ]
          },
          "metadata": {},
          "execution_count": 251
        },
        {
          "output_type": "display_data",
          "data": {
            "text/plain": [
              "<Figure size 1000x1000 with 0 Axes>"
            ]
          },
          "metadata": {}
        }
      ]
    },
    {
      "cell_type": "code",
      "source": [
        "# Plotagem - Dots\n",
        "for dot in dots:\n",
        "    plt.plot(dot.x, dot.y, 'bo')\n",
        "\n",
        "plt.xlabel('Eixo X')\n",
        "plt.ylabel('Eixo Y')\n",
        "plt.title('Plotagem - Pontos')\n",
        "plt.grid(True)\n",
        "plt.show()"
      ],
      "metadata": {
        "colab": {
          "base_uri": "https://localhost:8080/",
          "height": 472
        },
        "id": "avCgkXeqc7Cq",
        "outputId": "edc2cb6e-19fc-48ac-d06b-ceafb3ca49ef"
      },
      "execution_count": null,
      "outputs": [
        {
          "output_type": "display_data",
          "data": {
            "text/plain": [
              "<Figure size 640x480 with 1 Axes>"
            ],
            "image/png": "[encoded data removed]"
          },
          "metadata": {}
        }
      ]
    },
    {
      "cell_type": "code",
      "source": [
        "# Plotagem - Lines\n",
        "for line in lines:\n",
        "    plt.plot([float(line.dot1.x, line.dot2.x], [line.dot1.y, line.dot2.y], 'r-')\n",
        "\n",
        "plt.xlabel('Eixo X')\n",
        "plt.ylabel('Eixo Y')\n",
        "plt.title('Plotagem - Linhas')\n",
        "plt.grid(True)\n",
        "plt.show()"
      ],
      "metadata": {
        "colab": {
          "base_uri": "https://localhost:8080/",
          "height": 211
        },
        "id": "oXP1m-Xgc_dQ",
        "outputId": "6f3599cd-d1b9-452f-a8c3-7f054dd08de0"
      },
      "execution_count": null,
      "outputs": [
        {
          "output_type": "error",
          "ename": "TypeError",
          "evalue": "float() argument must be a string or a real number, not 'list'",
          "traceback": [
            "\u001b[0;31m---------------------------------------------------------------------------\u001b[0m",
            "\u001b[0;31mTypeError\u001b[0m                                 Traceback (most recent call last)",
            "\u001b[0;32m<ipython-input-253-28247cf6cc23>\u001b[0m in \u001b[0;36m<cell line: 2>\u001b[0;34m()\u001b[0m\n\u001b[1;32m      1\u001b[0m \u001b[0;31m# Plotagem - Lines\u001b[0m\u001b[0;34m\u001b[0m\u001b[0;34m\u001b[0m\u001b[0m\n\u001b[1;32m      2\u001b[0m \u001b[0;32mfor\u001b[0m \u001b[0mline\u001b[0m \u001b[0;32min\u001b[0m \u001b[0mlines\u001b[0m\u001b[0;34m:\u001b[0m\u001b[0;34m\u001b[0m\u001b[0;34m\u001b[0m\u001b[0m\n\u001b[0;32m----> 3\u001b[0;31m     \u001b[0mplt\u001b[0m\u001b[0;34m.\u001b[0m\u001b[0mplot\u001b[0m\u001b[0;34m(\u001b[0m\u001b[0mfloat\u001b[0m\u001b[0;34m(\u001b[0m\u001b[0;34m[\u001b[0m\u001b[0mline\u001b[0m\u001b[0;34m.\u001b[0m\u001b[0mdot1\u001b[0m\u001b[0;34m.\u001b[0m\u001b[0mx\u001b[0m\u001b[0;34m,\u001b[0m \u001b[0mline\u001b[0m\u001b[0;34m.\u001b[0m\u001b[0mdot2\u001b[0m\u001b[0;34m.\u001b[0m\u001b[0mx\u001b[0m\u001b[0;34m]\u001b[0m\u001b[0;34m)\u001b[0m\u001b[0;34m,\u001b[0m \u001b[0mfloat\u001b[0m\u001b[0;34m(\u001b[0m\u001b[0;34m[\u001b[0m\u001b[0mline\u001b[0m\u001b[0;34m.\u001b[0m\u001b[0mdot1\u001b[0m\u001b[0;34m.\u001b[0m\u001b[0my\u001b[0m\u001b[0;34m,\u001b[0m \u001b[0mline\u001b[0m\u001b[0;34m.\u001b[0m\u001b[0mdot2\u001b[0m\u001b[0;34m.\u001b[0m\u001b[0my\u001b[0m\u001b[0;34m]\u001b[0m\u001b[0;34m)\u001b[0m\u001b[0;34m,\u001b[0m \u001b[0;34m'r-'\u001b[0m\u001b[0;34m)\u001b[0m\u001b[0;34m\u001b[0m\u001b[0;34m\u001b[0m\u001b[0m\n\u001b[0m\u001b[1;32m      4\u001b[0m \u001b[0;34m\u001b[0m\u001b[0m\n\u001b[1;32m      5\u001b[0m \u001b[0mplt\u001b[0m\u001b[0;34m.\u001b[0m\u001b[0mxlabel\u001b[0m\u001b[0;34m(\u001b[0m\u001b[0;34m'Eixo X'\u001b[0m\u001b[0;34m)\u001b[0m\u001b[0;34m\u001b[0m\u001b[0;34m\u001b[0m\u001b[0m\n",
            "\u001b[0;31mTypeError\u001b[0m: float() argument must be a string or a real number, not 'list'"
          ]
        }
      ]
    },
    {
      "cell_type": "code",
      "source": [
        "# Plotagem - Polygons\n",
        "for polygon in polygons:\n",
        "    x_values = [dot.x for dot in polygon]\n",
        "    y_values = [dot.y for dot in polygon]\n",
        "    plt.fill(x_values, y_values, alpha=0.3)\n",
        "\n",
        "plt.xlabel('Eixo X')\n",
        "plt.ylabel('Eixo Y')\n",
        "plt.title('Plotagem - Polígonos')\n",
        "plt.grid(True)\n",
        "plt.show()"
      ],
      "metadata": {
        "id": "Pw2DDrSOdi8M"
      },
      "execution_count": null,
      "outputs": []
    },
    {
      "cell_type": "code",
      "source": [
        "# Plotagem - Todos\n",
        "fig = plt.figure()\n",
        "ax = fig.add_subplot(111)\n",
        "\n",
        "for dot in dots:\n",
        "    ax.plot(dot.x, dot.y, 'bo')\n",
        "\n",
        "for line in lines:\n",
        "    ax.plot([line.dot1.x, line.dot2.x], [line.dot1.y, line.dot2.y], 'r-')\n",
        "\n",
        "for polygon in polygons:\n",
        "    x_values = [dot.x for dot in polygon]\n",
        "    y_values = [dot.y for dot in polygon]\n",
        "    ax.fill(x_values, y_values, alpha=0.3)\n",
        "\n",
        "ax.set_xlim(0, window.xwmax)\n",
        "ax.set_ylim(0, window.ywmax)\n",
        "\n",
        "ax.set_xlabel('Eixo X')\n",
        "ax.set_ylabel('Eixo Y')\n",
        "ax.set_title('Plotagem - Todos')\n",
        "ax.grid(True)\n",
        "plt.show()"
      ],
      "metadata": {
        "id": "dcTERDZUePNP"
      },
      "execution_count": null,
      "outputs": []
    }
  ]
}