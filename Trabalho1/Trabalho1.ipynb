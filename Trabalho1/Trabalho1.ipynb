{
  "cells": [
    {
      "cell_type": "markdown",
      "metadata": {
        "id": "0kcF_aKUbwN0"
      },
      "source": [
        "Trabalho Prático 1 - Disciplina de Computação Gráfica – 2024\n",
        "\n",
        "Dupla:\n",
        "*   Deise Santana dos Santos\n",
        "*   Friedrich Naum Espíndola"
      ]
    },
    {
      "cell_type": "code",
      "execution_count": 19,
      "metadata": {},
      "outputs": [
        {
          "name": "stdout",
          "output_type": "stream",
          "text": [
            "Requirement already satisfied: lxml in c:\\python312\\lib\\site-packages (5.2.0)\n",
            "Note: you may need to restart the kernel to use updated packages.\n",
            "Requirement already satisfied: matplotlib in c:\\python312\\lib\\site-packages (3.8.3)\n",
            "Requirement already satisfied: contourpy>=1.0.1 in c:\\python312\\lib\\site-packages (from matplotlib) (1.2.0)\n",
            "Requirement already satisfied: cycler>=0.10 in c:\\python312\\lib\\site-packages (from matplotlib) (0.12.1)\n",
            "Requirement already satisfied: fonttools>=4.22.0 in c:\\python312\\lib\\site-packages (from matplotlib) (4.50.0)\n",
            "Requirement already satisfied: kiwisolver>=1.3.1 in c:\\python312\\lib\\site-packages (from matplotlib) (1.4.5)\n",
            "Requirement already satisfied: numpy<2,>=1.21 in c:\\python312\\lib\\site-packages (from matplotlib) (1.26.4)\n",
            "Requirement already satisfied: packaging>=20.0 in c:\\users\\deise\\appdata\\roaming\\python\\python312\\site-packages (from matplotlib) (24.0)\n",
            "Requirement already satisfied: pillow>=8 in c:\\python312\\lib\\site-packages (from matplotlib) (10.2.0)\n",
            "Requirement already satisfied: pyparsing>=2.3.1 in c:\\python312\\lib\\site-packages (from matplotlib) (3.1.2)\n",
            "Requirement already satisfied: python-dateutil>=2.7 in c:\\users\\deise\\appdata\\roaming\\python\\python312\\site-packages (from matplotlib) (2.9.0.post0)\n",
            "Requirement already satisfied: six>=1.5 in c:\\users\\deise\\appdata\\roaming\\python\\python312\\site-packages (from python-dateutil>=2.7->matplotlib) (1.16.0)\n",
            "Note: you may need to restart the kernel to use updated packages.\n"
          ]
        }
      ],
      "source": [
        "%pip install lxml\n",
        "%pip install matplotlib"
      ]
    },
    {
      "cell_type": "code",
      "execution_count": 20,
      "metadata": {
        "id": "KVlf5Q9lbsFm"
      },
      "outputs": [],
      "source": [
        "''' Bibliotecas '''\n",
        "from lxml import etree\n",
        "import matplotlib.pyplot as plt"
      ]
    },
    {
      "cell_type": "code",
      "execution_count": 21,
      "metadata": {
        "id": "ToQBT3-8uTW2"
      },
      "outputs": [],
      "source": [
        "# Leitura do arquivo XML\n",
        "tree = etree.parse(\"entrada.xml\")"
      ]
    },
    {
      "cell_type": "code",
      "execution_count": 22,
      "metadata": {
        "id": "VSmJ3BgXdKiZ"
      },
      "outputs": [],
      "source": [
        "# Classes\n",
        "class Window:\n",
        "    def __init__(self, xwmin, ywmin, xwmax, ywmax):\n",
        "        self.xwmin = float(xwmin)\n",
        "        self.ywmin = float(ywmin)\n",
        "        self.xwmax = float(xwmax)\n",
        "        self.ywmax = float(ywmax)\n",
        "\n",
        "class Dot:\n",
        "    def __init__(self, x, y):\n",
        "        self.x = float(x)\n",
        "        self.y = float(y)\n",
        "\n",
        "class Line:\n",
        "    def __init__(self, dot1, dot2):\n",
        "        self.dot1 = dot1\n",
        "        self.dot2 = dot2\n",
        "\n",
        "class Polygon:\n",
        "    def __init__(self, dots):\n",
        "        self.dots = dots\n",
        "\n",
        "class Viewport:\n",
        "    def __init__(self, xvmin, yvmin, xvmax, yvmax):\n",
        "        self.xvmin = float(xvmin)\n",
        "        self.yvmin = float(yvmin)\n",
        "        self.xvmax = float(xvmax)\n",
        "        self.yvmax = float(yvmax)\n",
        "\n",
        "    def transform(self, xw, yw):\n",
        "        self.xw = xw\n",
        "        self.yw = yw\n",
        "        xv = ((xw - window.xwmin) / (window.xwmax - window.xwmin)) * (self.xvmax - self.xvmin)\n",
        "        yv = (1 - ((yw - window.ywmin) / (window.ywmax - window.ywmin))) * (self.yvmax - self.yvmin)\n",
        "        return xv, yv"
      ]
    },
    {
      "cell_type": "code",
      "execution_count": 23,
      "metadata": {
        "id": "PMSIGCqGI-zd"
      },
      "outputs": [],
      "source": [
        "# Busca dos Elementos -> Viewport\n",
        "viewport_xml = tree.find(\"./viewport\")\n",
        "\n",
        "xvmin = viewport_xml.find(\"vpmin\").get(\"x\")\n",
        "yvmin = viewport_xml.find(\"vpmin\").get(\"y\")\n",
        "xvmax = viewport_xml.find(\"vpmax\").get(\"x\")\n",
        "yvmax = viewport_xml.find(\"vpmax\").get(\"y\")\n",
        "\n",
        "viewport = Viewport(xvmin, yvmin, xvmax, yvmax)"
      ]
    },
    {
      "cell_type": "code",
      "execution_count": 24,
      "metadata": {
        "id": "O1TXESQ5i4uT"
      },
      "outputs": [],
      "source": [
        "# Busca dos Elementos -> Window\n",
        "window_xml = tree.find(\"./window\")\n",
        "\n",
        "xwmin = window_xml.find(\"wmin\").get(\"x\")\n",
        "ywmin = window_xml.find(\"wmin\").get(\"y\")\n",
        "xwmax = window_xml.find(\"wmax\").get(\"x\")\n",
        "ywmax = window_xml.find(\"wmax\").get(\"y\")\n",
        "\n",
        "window = Window(xwmin, ywmin, xwmax, ywmax)"
      ]
    },
    {
      "cell_type": "code",
      "execution_count": 25,
      "metadata": {
        "id": "qBKqgD6ZjAZS"
      },
      "outputs": [],
      "source": [
        "# Busca dos Elementos -> Dots\n",
        "dots_xml = tree.findall(\"./ponto\")\n",
        "\n",
        "dots = []\n",
        "\n",
        "for dot_xml in dots_xml:\n",
        "    x = dot_xml.attrib['x']\n",
        "    y = dot_xml.attrib['y']\n",
        "    dot = Dot(x, y)\n",
        "    dots.append(dot)"
      ]
    },
    {
      "cell_type": "code",
      "execution_count": 26,
      "metadata": {
        "id": "3S2ZXMv3krgt"
      },
      "outputs": [],
      "source": [
        "# Busca dos Elementos -> Lines\n",
        "lines_xml = tree.findall(\"./reta\")\n",
        "\n",
        "lines = []\n",
        "\n",
        "for line_xml in lines_xml:\n",
        "  x1 = line_xml[0].attrib['x']\n",
        "  y1 = line_xml[0].attrib['y']\n",
        "\n",
        "  dot1 = Dot(x1, y1)\n",
        "\n",
        "  x2 = line_xml[1].attrib['x']\n",
        "  y2 = line_xml[1].attrib['y']\n",
        "\n",
        "  dot2 = Dot(x2, y2)\n",
        "\n",
        "  line = Line(dot1, dot2)\n",
        "\n",
        "  lines.append(line)"
      ]
    },
    {
      "cell_type": "code",
      "execution_count": 27,
      "metadata": {
        "id": "yQ8Ng0KboKOR"
      },
      "outputs": [],
      "source": [
        "# Busca dos Elementos -> Polygons\n",
        "polygons_xml = tree.findall(\"./poligono\")\n",
        "\n",
        "polygons = []\n",
        "\n",
        "for polygon_xml in polygons_xml:\n",
        "  dots_polygon = []\n",
        "\n",
        "  for dot_xml in polygon_xml.findall(\"./ponto\"):\n",
        "      x = dot_xml.attrib['x']\n",
        "      y = dot_xml.attrib['y']\n",
        "      dot = Dot(x, y)\n",
        "      dots_polygon.append(dot)\n",
        "\n",
        "  polygons.append(dots_polygon)"
      ]
    },
    {
      "cell_type": "code",
      "execution_count": 28,
      "metadata": {
        "id": "R9kowwVBxRn7"
      },
      "outputs": [
        {
          "data": {
            "text/plain": [
              "<Figure size 1000x1000 with 0 Axes>"
            ]
          },
          "metadata": {},
          "output_type": "display_data"
        },
        {
          "data": {
            "image/png": "[encoded data removed]",
            "text/plain": [
              "<Figure size 640x480 with 1 Axes>"
            ]
          },
          "metadata": {},
          "output_type": "display_data"
        }
      ],
      "source": [
        "# Plotagem - Todos\n",
        "xwmax = float(window.xwmax)\n",
        "ywmax = float(window.ywmax)\n",
        "\n",
        "plt.figure(figsize=(xwmax, ywmax))\n",
        "\n",
        "fig = plt.figure()\n",
        "ax = fig.add_subplot(111)\n",
        "\n",
        "for dot in dots:\n",
        "    ax.plot(dot.x, dot.y, 'go')\n",
        "\n",
        "for line in lines:\n",
        "    ax.plot([line.dot1.x, line.dot2.x], [line.dot1.y, line.dot2.y], 'r-')\n",
        "\n",
        "for polygon in polygons:\n",
        "    x_values = [dot.x for dot in polygon]\n",
        "    y_values = [dot.y for dot in polygon]\n",
        "    ax.fill(x_values, y_values, alpha=0.5)\n",
        "\n",
        "ax.set_xlim(0, xwmax)\n",
        "ax.set_ylim(0, ywmax)\n",
        "\n",
        "ax.set_xlabel('Eixo X')\n",
        "ax.set_ylabel('Eixo Y')\n",
        "ax.set_title('Plotagem')\n",
        "ax.grid(True)\n",
        "plt.show()"
      ]
    },
    {
      "cell_type": "code",
      "execution_count": 29,
      "metadata": {
        "id": "QPNe0viUK5A5"
      },
      "outputs": [],
      "source": [
        "# Aplicando Transformada - Dots\n",
        "dots_transform = []\n",
        "\n",
        "for dot in dots:\n",
        "    xv, yv = viewport.transform(dot.x, dot.y)\n",
        "    dot_v = Dot(xv, yv)\n",
        "    dots_transform.append(dot_v)"
      ]
    },
    {
      "cell_type": "code",
      "execution_count": 30,
      "metadata": {
        "id": "ZVJeGL5SK9u3"
      },
      "outputs": [],
      "source": [
        "# Aplicando Transformada - Lines\n",
        "lines_transform = []\n",
        "\n",
        "for line in lines:\n",
        "    xv1, yv1 = viewport.transform(line.dot1.x, line.dot1.y)\n",
        "    xv2, yv2 = viewport.transform(line.dot2.x, line.dot2.y)\n",
        "\n",
        "    dot_v1 = Dot(xv1, yv1)\n",
        "    dot_v2 = Dot(xv2, yv2)\n",
        "\n",
        "    line = Line(dot_v1, dot_v2)\n",
        "\n",
        "    lines_transform.append(line)"
      ]
    },
    {
      "cell_type": "code",
      "execution_count": 31,
      "metadata": {
        "id": "4kWh0DIuK929"
      },
      "outputs": [],
      "source": [
        "# Aplicando Transformada - Polygons\n",
        "polygon_transform = []\n",
        "\n",
        "for polygon in polygons:\n",
        "    dots_polygon_transform = []\n",
        "\n",
        "    for dot in polygon:\n",
        "      xv, yv = viewport.transform(dot.x, dot.y)\n",
        "      dot_v = Dot(xv, yv)\n",
        "      dots_polygon_transform.append(dot_v)\n",
        "\n",
        "    polygon_transform.append(dots_polygon_transform)"
      ]
    },
    {
      "cell_type": "code",
      "execution_count": 32,
      "metadata": {
        "id": "mv2Am4EwLEnP"
      },
      "outputs": [],
      "source": [
        "# Escrita no arquivo XML\n",
        "tree_out = etree.Element(\"dados\")"
      ]
    },
    {
      "cell_type": "code",
      "execution_count": 33,
      "metadata": {
        "id": "HQN1wqA5gaev"
      },
      "outputs": [],
      "source": [
        "# Criando elemento xml para Dots\n",
        "dots_transform_xml = etree.SubElement(tree_out, \"pontos\")\n",
        "\n",
        "for dot in dots_transform:\n",
        "    dot_xml = etree.SubElement(dots_transform_xml, \"ponto\", x=str(dot.x), y=str(dot.y))"
      ]
    },
    {
      "cell_type": "code",
      "execution_count": 34,
      "metadata": {
        "id": "cWy1_NRrgdio"
      },
      "outputs": [],
      "source": [
        "# Criando o elemento para as linhas transformadas\n",
        "lines_transform_xml = etree.SubElement(tree_out, \"retas\")\n",
        "\n",
        "for line in lines_transform:\n",
        "    line_xml = etree.SubElement(lines_transform_xml, \"reta\")\n",
        "    dot_xml_1 = etree.SubElement(line_xml, \"ponto\", x=str(line.dot1.x), y=str(line.dot1.y))\n",
        "    dot_xml_2 = etree.SubElement(line_xml, \"ponto\", x=str(line.dot2.x), y=str(line.dot2.y))"
      ]
    },
    {
      "cell_type": "code",
      "execution_count": 35,
      "metadata": {
        "id": "ucutup6FhZbB"
      },
      "outputs": [],
      "source": [
        "# Criando o elemento para os polígonos transformados\n",
        "polygon_transform_xml = etree.SubElement(tree_out, \"poligonos\")\n",
        "\n",
        "for polygon in polygon_transform:\n",
        "    poligono_xml = etree.SubElement(polygon_transform_xml, \"poligono\")\n",
        "    for dot in polygon:\n",
        "        dot_xml = etree.SubElement(poligono_xml, \"ponto\", x=str(dot.x), y=str(dot.y))"
      ]
    },
    {
      "cell_type": "code",
      "execution_count": 36,
      "metadata": {
        "id": "kZN-Nl1Uhy9i"
      },
      "outputs": [],
      "source": [
        "tree = etree.ElementTree(tree_out)\n",
        "\n",
        "tree.write(\"saida.xml\", pretty_print=True, xml_declaration=True, encoding=\"utf-8\")"
      ]
    },
    {
      "cell_type": "markdown",
      "metadata": {
        "id": "5VtruuXXWVNS"
      },
      "source": [
        "Referências:\n",
        "\n",
        "https://docs.python.org/3/library/xml.etree.elementtree.html\n",
        "\n",
        "Solução pip: https://pt.stackoverflow.com/a/240469/349226"
      ]
    }
  ],
  "metadata": {
    "colab": {
      "provenance": []
    },
    "kernelspec": {
      "display_name": "Python 3",
      "name": "python3"
    },
    "language_info": {
      "codemirror_mode": {
        "name": "ipython",
        "version": 3
      },
      "file_extension": ".py",
      "mimetype": "text/x-python",
      "name": "python",
      "nbconvert_exporter": "python",
      "pygments_lexer": "ipython3",
      "version": "3.12.2"
    }
  },
  "nbformat": 4,
  "nbformat_minor": 0
}
