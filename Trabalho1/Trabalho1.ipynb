{
  "nbformat": 4,
  "nbformat_minor": 0,
  "metadata": {
    "colab": {
      "provenance": []
    },
    "kernelspec": {
      "name": "python3",
      "display_name": "Python 3"
    },
    "language_info": {
      "name": "python"
    }
  },
  "cells": [
    {
      "cell_type": "markdown",
      "source": [
        "Trabalho Prático 1 - Disciplina de Computação Gráfica – 2024\n",
        "\n",
        "Dupla:\n",
        "*   Deise Santana dos Santos\n",
        "*   Friedrich Naum Espíndola"
      ],
      "metadata": {
        "id": "0kcF_aKUbwN0"
      }
    },
    {
      "cell_type": "code",
      "execution_count": 37,
      "metadata": {
        "id": "KVlf5Q9lbsFm"
      },
      "outputs": [],
      "source": [
        "''' Bibliotecas '''\n",
        "from lxml import etree"
      ]
    },
    {
      "cell_type": "code",
      "source": [
        "# Leitura do arquivo XML\n",
        "tree = etree.parse(\"entrada.xml\")"
      ],
      "metadata": {
        "id": "ToQBT3-8uTW2"
      },
      "execution_count": null,
      "outputs": []
    },
    {
      "cell_type": "code",
      "source": [
        "# Classes\n",
        "class Window:\n",
        "    def __init__(self, wmin_x, wmin_y, wmax_x, wmax_y):\n",
        "        self.wmin_x = wmin_x\n",
        "        self.wmin_y = wmin_y\n",
        "        self.wmax_x = wmax_x\n",
        "        self.wmax_y = wmax_y\n",
        "\n",
        "class Dot:\n",
        "    def __init__(self, x, y):\n",
        "        self.x = x\n",
        "        self.y = y\n",
        "\n",
        "class Line:\n",
        "    def __init__(self, dot1, dot2):\n",
        "        self.dot1 = dot1\n",
        "        self.dot2 = dot2\n",
        "\n",
        "class Polygon:\n",
        "    def __init__(self, dots):\n",
        "        self.dots = dots"
      ],
      "metadata": {
        "id": "VSmJ3BgXdKiZ"
      },
      "execution_count": 38,
      "outputs": []
    },
    {
      "cell_type": "code",
      "source": [
        "# Busca dos Elementos -> Window\n",
        "window_xml = tree.find(\"./window\")\n",
        "\n",
        "wmin_x = window_xml.find(\"wmin\").get(\"x\")\n",
        "wmin_y = window_xml.find(\"wmin\").get(\"y\")\n",
        "wmax_x = window_xml.find(\"wmax\").get(\"x\")\n",
        "wmax_y = window_xml.find(\"wmax\").get(\"y\")\n",
        "\n",
        "window = Window(wmin_x, wmin_y, wmax_x, wmax_y)"
      ],
      "metadata": {
        "id": "O1TXESQ5i4uT"
      },
      "execution_count": 39,
      "outputs": []
    },
    {
      "cell_type": "code",
      "source": [
        "# Busca dos Elementos -> Dots\n",
        "dots_xml = tree.findall(\"./ponto\")\n",
        "\n",
        "dots = []\n",
        "\n",
        "for dot_xml in dots_xml:\n",
        "  x = dot_xml.attrib['x']\n",
        "  y = dot_xml.attrib['y']\n",
        "  dot = Dot(x, y)\n",
        "  dots.append(dot)"
      ],
      "metadata": {
        "id": "qBKqgD6ZjAZS"
      },
      "execution_count": 40,
      "outputs": []
    },
    {
      "cell_type": "code",
      "source": [
        "# Busca dos Elementos -> Lines\n",
        "lines_xml = tree.findall(\"./reta\")\n",
        "\n",
        "lines = []\n",
        "\n",
        "for line_xml in lines_xml:\n",
        "  x1 = line_xml[0].attrib['x']\n",
        "  y1 = line_xml[0].attrib['y']\n",
        "\n",
        "  dot1 = Dot(x1, y1)\n",
        "\n",
        "  x2 = line_xml[1].attrib['x']\n",
        "  y2 = line_xml[1].attrib['y']\n",
        "\n",
        "  dot2 = Dot(x2, y2)\n",
        "\n",
        "  line = Line(dot1, dot2)\n",
        "\n",
        "  lines.append(line)"
      ],
      "metadata": {
        "id": "3S2ZXMv3krgt"
      },
      "execution_count": 41,
      "outputs": []
    },
    {
      "cell_type": "code",
      "source": [
        "# Busca dos Elementos -> Polygon\n",
        "polygons_xml = tree.findall(\"./poligono\")\n",
        "\n",
        "polygons = []\n",
        "\n",
        "for polygon_xml in polygons_xml:\n",
        "  dots = []\n",
        "\n",
        "  for dot_xml in polygon_xml.findall(\"./ponto\"):\n",
        "      x = dot_xml.attrib['x']\n",
        "      y = dot_xml.attrib['y']\n",
        "      dot = Dot(x, y)\n",
        "      dots.append(dot)\n",
        "\n",
        "  polygons.append(dots)"
      ],
      "metadata": {
        "id": "yQ8Ng0KboKOR"
      },
      "execution_count": 42,
      "outputs": []
    }
  ]
}